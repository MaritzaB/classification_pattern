{
 "cells": [
  {
   "attachments": {},
   "cell_type": "markdown",
   "metadata": {},
   "source": [
    "# Tarea 7. Experimentacion\n",
    "\n",
    "Esta tarea consiste en llevar a cabo la experimentación de diversos\n",
    "clasificadores sobre una variedad de datasets. Se reportarán los resultados y,\n",
    "posteriormente cuando tengamos la clase de significancia estadística, haremos el\n",
    "análisis de los clasificadores y si hay un ganador cuál de ellos sería.\n",
    "\n",
    "Las instrucciones se detallan a continuación:\n",
    "\n",
    "1. Buscar varios datasets (7, 8, 10, etc.) que cumplan con una condición: deben\n",
    "   tener alguna característica en común. ¿Qué característica en común? Hay\n",
    "   varias cosas que pueden satisfacer esta condición, por ejemplo, que traten el\n",
    "   mismo problema (e.g. diagnósticos médicos aunque sean de diferente\n",
    "   enfermedad), que tengan muchas más variables que instancias (maldición de la\n",
    "   dimensionalidad), que todos sean de más de 3 clases, que sus clases estén\n",
    "   desbalanceadas, entre otras cosas que ustedes puedan identificar. La idea es\n",
    "   que dichos datasets puedan ser identificados en el mismo contexto.\n",
    "\n",
    "2. Llevar a cabo la clasificación, utilizando scikit-learn, aplicando los\n",
    "   clasificadores que hemos visto y algunos otros de su predilección. Para\n",
    "   realizar la clasificación, deben emplear algún método de validación cruzada\n",
    "   (k-fold cross-validation, o leave-one-out, dependiendo la cantidad de datos).\n",
    "   Asimismo, deberán reportar los resultados utilizando el balanced accuracy,\n",
    "   sensibilidad y especificidad (juntas), o bien el área bajo la curva roc (AUC\n",
    "   ROC).\n",
    "\n",
    "3. Posteriormente realizaremos alguna prueba de significancia estadística (cuyo\n",
    "   tema veremos al regreso de vacaciones), con la finalidad de conocer si\n",
    "   existen diferencias estadísticamente significativas entre los clasificadores.\n",
    "\n"
   ]
  },
  {
   "cell_type": "markdown",
   "metadata": {},
   "source": [
    "# Datos de medidas morfológicas de animales o plantas para inferir especie o sexo.\n",
    "\n",
    "1. [Abalone dataset](https://archive-beta.ics.uci.edu/dataset/1/abalone)\n",
    "\n",
    "1. [Birds\n",
    "   bones dataset](https://www.kaggle.com/datasets/zhangjuefei/birds-bones-and-living-habits)\n",
    "\n",
    "1. [Penguins dataset](https://archive-beta.ics.uci.edu/dataset/690/palmer+penguins-3)\n",
    "\n",
    "1. [Pokemon_dataset](https://www.kaggle.com/datasets/cristobalmitchell/pokedex)\n",
    "\n",
    "1. [Sloths dataset](https://www.kaggle.com/datasets/bertiemackie/sloth-species)"
   ]
  },
  {
   "cell_type": "code",
   "execution_count": null,
   "metadata": {},
   "outputs": [],
   "source": [
    "import pandas as pd\n",
    "\n",
    "abalones = pd.read_csv(\"../datasets/abalone.csv\")\n",
    "print(abalones.shape)\n",
    "abalones_ft = ['Shell_length', 'Shell_diameter', 'Height', 'Whole_weight',\n",
    "       'Shucked_weight', 'Viscera_weight', 'Shell_weight',]\n",
    "abalones_tg = ['Sex']\n",
    "\n",
    "birds = pd.read_csv(\"../datasets/bird.csv\")\n",
    "print(birds.shape)\n",
    "birds_ft = birds.loc[:,['Humerus_length', 'Humerus_diameter', 'Ulna_length',\n",
    "       'Ulna_diamater', 'Femur_length', 'Femur_diameter', 'Tibiotarsus_length',\n",
    "       'Tibiotarsus_diameter', 'Tarsometatarsus_length',\n",
    "       'Tarsometatarsus_diameter',]]\n",
    "birds_tg = birds[['Species_group']]\n",
    "\n",
    "penguins = pd.read_csv(\"../datasets/penguins.csv\")\n",
    "print(penguins.shape)\n",
    "penguins_ft = ['Culmen_Length_mm', 'Culmen_Depth_mm', 'Flipper_Length_', 'Body_Massgr', ]\n",
    "penguins_tg = ['Species']\n",
    "\n",
    "#pokemon = pd.read_csv(\"../datasets/pokemon.csv\")\n",
    "\n",
    "sloths = pd.read_csv(\"../datasets/sloth_data.csv\")\n",
    "print(sloths.shape)\n",
    "sloths_ft = ['Claw_length_cm', 'Size_cm', 'Tail_length_cm', 'Weight_kg', ]\n",
    "sloths_tg = ['Sub_specie']\n",
    "\n"
   ]
  },
  {
   "attachments": {},
   "cell_type": "markdown",
   "metadata": {},
   "source": [
    "# Validación cruzada\n"
   ]
  },
  {
   "cell_type": "code",
   "execution_count": null,
   "metadata": {},
   "outputs": [],
   "source": [
    "from sklearn.model_selection import train_test_split\n",
    "import matplotlib.pyplot as plt\n",
    "## Crea holdout 80 train : 20 test\n",
    "#\n",
    "X_train_i, X_test_i, y_train_i, y_test_i = \\\n",
    "  train_test_split(birds_ft, birds_tg, test_size=0.20, random_state=1111)\n",
    "\n",
    "print('Datos de entrenamiento: ', X_train_i.shape)\n",
    "print('Datos de validación: ', X_test_i.shape)\n",
    "\n",
    "plt.plot(X_train_i.iloc[:,0],X_train_i.iloc[:,1],'x')\n",
    "plt.plot(X_test_i.iloc[:,0],X_test_i.iloc[:,1],'x')\n",
    "plt.grid(color='#EEEEEE')\n",
    "plt.show()\n"
   ]
  }
 ],
 "metadata": {
  "kernelspec": {
   "display_name": "Python 3",
   "language": "python",
   "name": "python3"
  },
  "language_info": {
   "codemirror_mode": {
    "name": "ipython",
    "version": 3
   },
   "file_extension": ".py",
   "mimetype": "text/x-python",
   "name": "python",
   "nbconvert_exporter": "python",
   "pygments_lexer": "ipython3",
   "version": "3.8.10"
  },
  "orig_nbformat": 4
 },
 "nbformat": 4,
 "nbformat_minor": 2
}
